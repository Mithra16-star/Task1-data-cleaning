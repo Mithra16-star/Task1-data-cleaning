{
  "nbformat": 4,
  "nbformat_minor": 0,
  "metadata": {
    "colab": {
      "provenance": [],
      "authorship_tag": "ABX9TyMxuLGvht3d6Q+Ko9y4oK8o",
      "include_colab_link": true
    },
    "kernelspec": {
      "name": "python3",
      "display_name": "Python 3"
    },
    "language_info": {
      "name": "python"
    }
  },
  "cells": [
    {
      "cell_type": "markdown",
      "metadata": {
        "id": "view-in-github",
        "colab_type": "text"
      },
      "source": [
        "<a href=\"https://colab.research.google.com/github/Mithra16-star/Task1-data-cleaning/blob/main/Task1_data_cleaning.ipynb\" target=\"_parent\"><img src=\"https://colab.research.google.com/assets/colab-badge.svg\" alt=\"Open In Colab\"/></a>"
      ]
    },
    {
      "cell_type": "code",
      "execution_count": 1,
      "metadata": {
        "id": "OslT1HsywQVz"
      },
      "outputs": [],
      "source": [
        "import pandas as pd\n",
        "\n",
        "df = pd.read_csv(\"/content/Mall_Customers.csv\")\n"
      ]
    },
    {
      "cell_type": "code",
      "source": [
        "print(df.isnull().sum())\n",
        "df = df.dropna()\n"
      ],
      "metadata": {
        "colab": {
          "base_uri": "https://localhost:8080/"
        },
        "id": "qZJSYMmzwhLh",
        "outputId": "5049563a-bc13-41f8-af19-5e7ea8815dac"
      },
      "execution_count": 2,
      "outputs": [
        {
          "output_type": "stream",
          "name": "stdout",
          "text": [
            "CustomerID                0\n",
            "Gender                    0\n",
            "Age                       0\n",
            "Annual Income (k$)        0\n",
            "Spending Score (1-100)    0\n",
            "dtype: int64\n"
          ]
        }
      ]
    },
    {
      "cell_type": "code",
      "source": [
        "df = df.drop_duplicates()\n"
      ],
      "metadata": {
        "id": "dl-hAi6kwou3"
      },
      "execution_count": 3,
      "outputs": []
    },
    {
      "cell_type": "code",
      "source": [
        "# Rename columns to be clean and uniform\n",
        "df.columns = [col.lower().replace(\" \", \"_\") for col in df.columns]\n"
      ],
      "metadata": {
        "id": "fxtvf8IM3iYh"
      },
      "execution_count": 10,
      "outputs": []
    },
    {
      "cell_type": "code",
      "source": [
        "df.columns = df.columns.str.strip().str.lower().str.replace(\" \", \"_\")\n"
      ],
      "metadata": {
        "id": "jMyA7cdA57_a"
      },
      "execution_count": 24,
      "outputs": []
    },
    {
      "cell_type": "code",
      "source": [
        "df['age'] = df['age'].astype('Int64')  # Use Int64 for nullable integers\n"
      ],
      "metadata": {
        "id": "05raOrf65_0h"
      },
      "execution_count": 25,
      "outputs": []
    },
    {
      "cell_type": "code",
      "source": [
        "# Standardize Gender values\n",
        "df['gender'] = df['gender'].str.strip().str.lower().replace({\n",
        "    'm': 'Male',\n",
        "    'male': 'Male',\n",
        "    'f': 'Female',\n",
        "    'female': 'Female',\n",
        "    'female ': 'Female',\n",
        "    'MALE': 'Male',\n",
        "    'FEMALE': 'Female'\n",
        "})"
      ],
      "metadata": {
        "id": "EaM817qO52dP"
      },
      "execution_count": 23,
      "outputs": []
    },
    {
      "cell_type": "code",
      "source": [
        "import pandas as pd\n",
        "\n",
        "# Load the dataset\n",
        "df = pd.read_csv(\"/content/Mall_Customers.csv\")\n",
        "\n",
        "# Rename columns to lowercase and replace spaces with underscores first\n",
        "df.columns = [col.lower().replace(\" \", \"_\") for col in df.columns]\n",
        "\n",
        "# Now you can access columns with the new names\n",
        "# Ensure 'age' is an integer\n",
        "df['age'] = pd.to_numeric(df['age'], errors='coerce').fillna(0).astype(int)\n",
        "\n",
        "\n",
        "# Save the cleaned dataset\n",
        "df.to_csv('cleaned_dataset.csv', index=False)\n",
        "\n",
        "# Display sample data\n",
        "print(df.head())"
      ],
      "metadata": {
        "colab": {
          "base_uri": "https://localhost:8080/"
        },
        "id": "Y8bx-xB74tMx",
        "outputId": "a989e8d2-c13a-4524-f57c-d403c59b057b"
      },
      "execution_count": 15,
      "outputs": [
        {
          "output_type": "stream",
          "name": "stdout",
          "text": [
            "   customerid  gender  age  annual_income_(k$)  spending_score_(1-100)\n",
            "0           1    Male   19                  15                      39\n",
            "1           2    Male   21                  15                      81\n",
            "2           3  Female   20                  16                       6\n",
            "3           4  Female   23                  16                      77\n",
            "4           5  Female   31                  17                      40\n"
          ]
        }
      ]
    }
  ]
}